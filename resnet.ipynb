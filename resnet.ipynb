{
  "nbformat": 4,
  "nbformat_minor": 0,
  "metadata": {
    "colab": {
      "provenance": [],
      "gpuType": "T4",
      "authorship_tag": "ABX9TyPRyaHyoogECEptOsPQRSIg",
      "include_colab_link": true
    },
    "kernelspec": {
      "name": "python3",
      "display_name": "Python 3"
    },
    "language_info": {
      "name": "python"
    },
    "accelerator": "GPU"
  },
  "cells": [
    {
      "cell_type": "markdown",
      "metadata": {
        "id": "view-in-github",
        "colab_type": "text"
      },
      "source": [
        "<a href=\"https://colab.research.google.com/github/gaurav22m/Car-Dmaage-Detection/blob/main/resnet.ipynb\" target=\"_parent\"><img src=\"https://colab.research.google.com/assets/colab-badge.svg\" alt=\"Open In Colab\"/></a>"
      ]
    },
    {
      "cell_type": "code",
      "execution_count": null,
      "metadata": {
        "id": "-VgdJTneP_29"
      },
      "outputs": [],
      "source": [
        "#Importing required libraries\n",
        "import os\n",
        "import json\n",
        "import urllib\n",
        "import numpy as np\n",
        "import pandas as pd\n",
        "import seaborn as sns\n",
        "import matplotlib.pyplot as plt\n",
        "%matplotlib inline\n",
        "import random as rn\n",
        "import pickle\n",
        "import torch\n",
        "import torchvision.transforms as transforms\n",
        "from tqdm import tqdm\n",
        "from sklearn.model_selection import train_test_split\n",
        "from sklearn.linear_model import LogisticRegression\n",
        "from sklearn.svm import SVC\n",
        "from sklearn.calibration import CalibratedClassifierCV\n",
        "from sklearn.metrics import log_loss\n",
        "from sklearn.metrics import confusion_matrix\n",
        "from sklearn.metrics import accuracy_score\n",
        "from sklearn.metrics import precision_score\n",
        "from sklearn.metrics import recall_score\n",
        "import datetime\n",
        "import tensorflow as tf\n",
        "from tensorflow.keras.preprocessing import image\n",
        "from tensorflow.keras import optimizers\n",
        "from tensorflow.keras import applications\n",
        "from tensorflow.keras.models import Sequential, Model, load_model\n",
        "from tensorflow.keras.callbacks import ModelCheckpoint, History\n",
        "from tensorflow.keras.layers import Dense, Activation, Dropout, Flatten\n",
        "from tensorflow.keras.layers import Conv2D, MaxPooling2D, ZeroPadding2D,Input\n",
        "from tensorflow.keras.preprocessing.image import ImageDataGenerator,load_img,img_to_array\n",
        "from tensorflow.keras.callbacks import ModelCheckpoint, LearningRateScheduler, TensorBoard, EarlyStopping"
      ]
    },
    {
      "cell_type": "code",
      "source": [
        "#Mount Google Drive to access the dataset\n",
        "from google.colab import drive\n",
        "drive.mount('/content/drive')"
      ],
      "metadata": {
        "colab": {
          "base_uri": "https://localhost:8080/"
        },
        "id": "-OZWtuTwUcyy",
        "outputId": "c6dd6d2e-1bdc-4f84-c4b3-1911a18ef811"
      },
      "execution_count": null,
      "outputs": [
        {
          "output_type": "stream",
          "name": "stdout",
          "text": [
            "Drive already mounted at /content/drive; to attempt to forcibly remount, call drive.mount(\"/content/drive\", force_remount=True).\n"
          ]
        }
      ]
    },
    {
      "cell_type": "code",
      "source": [
        "#Creating a folder to save models\n",
        "os.mkdir('/content/drive/MyDrive/resnet')"
      ],
      "metadata": {
        "id": "Hvfhs-qUUlwp"
      },
      "execution_count": null,
      "outputs": []
    },
    {
      "cell_type": "code",
      "source": [
        "#Creating a funciton which sets layers to non trainable\n",
        "def non_trainable(model):\n",
        "    for i in range(len(model.layers)):\n",
        "      model.layers[i].trainable = False\n",
        "    return model"
      ],
      "metadata": {
        "id": "Sqifs5UgU2ZP"
      },
      "execution_count": null,
      "outputs": []
    },
    {
      "cell_type": "code",
      "source": [
        "#Plotting metrics for neural networks models\n",
        "def plot_metrics(nn_model,metric):\n",
        "  plt.figure(figsize = (10,5))\n",
        "  plt.plot(nn_model.history.history[metric])\n",
        "  plt.plot(nn_model.history.history['val_'+metric])\n",
        "  plt.title('model '+metric)\n",
        "  plt.ylabel(metric)\n",
        "  plt.xlabel('epoch')\n",
        "  plt.legend(['train', 'test'], loc='upper left')\n",
        "  plt.show()\n",
        "  idx = np.argmax(nn_model.history.history['val_accuracy'])\n",
        "  print('The '+metric+' for final model is ',nn_model.history.history['val_'+metric][idx])"
      ],
      "metadata": {
        "id": "UDhSex_NU4MQ"
      },
      "execution_count": null,
      "outputs": []
    },
    {
      "cell_type": "code",
      "source": [
        "#Plotting confusion matrix\n",
        "def binary_confusion_matrix(true_y,pred_y,labels_list):\n",
        "  Cm = confusion_matrix(true_y,pred_y)\n",
        "  print(\"-\"*50, \"Confusion matrix\", \"-\"*50)\n",
        "  cmap=sns.light_palette(\"blue\")\n",
        "  plt.figure(figsize=(10,5))\n",
        "  sns.heatmap(Cm, annot=True, cmap=cmap, fmt=\".3f\", xticklabels=labels_list, yticklabels=labels_list)\n",
        "  plt.xlabel('Predicted Class')\n",
        "  plt.ylabel('Original Class')\n",
        "  plt.show()"
      ],
      "metadata": {
        "id": "w63PH858U7It"
      },
      "execution_count": null,
      "outputs": []
    },
    {
      "cell_type": "code",
      "source": [
        "def multiclass_confusion_matrix(true_y,pred_y,labels_list):\n",
        "  Cm = confusion_matrix(true_y,pred_y)\n",
        "  Pm = (Cm/Cm.sum(axis = 0))\n",
        "  Rm = (((Cm.T)/(Cm.sum(axis =1))).T)\n",
        "  cmap = sns.light_palette('blue')\n",
        "  mt = [Cm,Pm,Rm]\n",
        "  names = ['Confusion Matrix','Precision Matrix','Recall Matrix']\n",
        "  print('Average Precision is',np.trace(Pm)/3)\n",
        "  print('Average Recall is',np.trace(Rm)/3)\n",
        "  for i in range(len(mt)):\n",
        "    print('-'*50,names[i],'-'*50)\n",
        "    plt.figure(figsize = (10,5))\n",
        "    sns.heatmap(mt[i],annot = True,cmap = cmap,fmt = \".3f\",xticklabels = labels_list,yticklabels = labels_list)\n",
        "    plt.xlabel('Predicted Class')\n",
        "    plt.ylabel('Original Class')\n",
        "    plt.show()"
      ],
      "metadata": {
        "id": "2CH5o0fnU86G"
      },
      "execution_count": null,
      "outputs": []
    },
    {
      "cell_type": "code",
      "source": [
        "def compute_precision_recall(true_y,true_pred):\n",
        "  tp,fn,fp,tn = confusion_matrix(true_y,true_pred).ravel()\n",
        "  precision = tp/(tp+fp)\n",
        "  recall = tp/(tp+fn)\n",
        "  return precision,recall"
      ],
      "metadata": {
        "id": "__UUUmyuVAta"
      },
      "execution_count": null,
      "outputs": []
    },
    {
      "cell_type": "code",
      "source": [
        "resnet_scores = pd.DataFrame(columns = ['Model','Accuracy','Precision','Recall'])"
      ],
      "metadata": {
        "id": "kMI2yM13VCv5"
      },
      "execution_count": null,
      "outputs": []
    },
    {
      "cell_type": "markdown",
      "source": [
        "### **ORIGINAL DATA**"
      ],
      "metadata": {
        "id": "nMD5eZpNVFan"
      }
    },
    {
      "cell_type": "code",
      "source": [
        "#Data for Neural Networks\n",
        "input_shapes = (256,256,3)\n",
        "batch_size = 8"
      ],
      "metadata": {
        "id": "XRMqIcSLVEs6"
      },
      "execution_count": null,
      "outputs": []
    },
    {
      "cell_type": "code",
      "source": [
        "#Classes\n",
        "stage1_class_labels = ['damaged','not_damaged']\n",
        "stage2_class_labels = ['front','rear','side']\n",
        "stage3_class_labels = ['minor','moderate','severe']"
      ],
      "metadata": {
        "id": "djql-innVLfl"
      },
      "execution_count": null,
      "outputs": []
    },
    {
      "cell_type": "markdown",
      "source": [
        "## **Resnet**"
      ],
      "metadata": {
        "id": "v043crqSVNr4"
      }
    },
    {
      "cell_type": "markdown",
      "source": [
        "### **Baseline Model**"
      ],
      "metadata": {
        "id": "pLHv0eI_VSjz"
      }
    },
    {
      "cell_type": "code",
      "source": [
        "def model_features(model,train_dir,test_dir):\n",
        "    train_gen = ImageDataGenerator()\n",
        "    test_gen = ImageDataGenerator()\n",
        "\n",
        "    train_fd = train_gen.flow_from_directory(train_dir,target_size = (256,256),batch_size = 1,shuffle = False)\n",
        "    test_fd = test_gen.flow_from_directory(test_dir,target_size = (256,256),batch_size = 1,shuffle = False)\n",
        "\n",
        "    train_features = model.predict(train_fd)\n",
        "    test_features = model.predict(test_fd)\n",
        "\n",
        "    return train_features,test_features,train_fd,test_fd"
      ],
      "metadata": {
        "id": "xTbZIqezVM8Y"
      },
      "execution_count": null,
      "outputs": []
    },
    {
      "cell_type": "code",
      "source": [
        "def target_feat(fd_class):\n",
        "    temp_dict = dict(fd_class.class_indices)\n",
        "    keys = list(temp_dict.keys())\n",
        "    values = list(temp_dict.values())\n",
        "\n",
        "    y = [keys[values.index(i)] for i in fd_class.classes]\n",
        "\n",
        "    return y"
      ],
      "metadata": {
        "id": "UkN9JMxDVYi_"
      },
      "execution_count": null,
      "outputs": []
    },
    {
      "cell_type": "code",
      "source": [
        "#Importing Densenet model and setting layers as non trainable\n",
        "resnet = applications.ResNet50(include_top=False,weights='imagenet',input_shape=(256,256,3))\n",
        "resnet = non_trainable(resnet)\n",
        "fc = Flatten()(resnet.output)\n",
        "model_resnet = Model(inputs = resnet.input,outputs = fc)"
      ],
      "metadata": {
        "id": "6MVeQxCYVaEm"
      },
      "execution_count": null,
      "outputs": []
    },
    {
      "cell_type": "markdown",
      "source": [
        "### **Stage 1**"
      ],
      "metadata": {
        "id": "zGI8B7msVehH"
      }
    },
    {
      "cell_type": "code",
      "source": [
        "train_data_dir = '/content/drive/MyDrive/data_augmentation_1/data_1/train'\n",
        "test_data_dir = '/content/drive/MyDrive/data_augmentation_1/data_1/test'"
      ],
      "metadata": {
        "id": "zAL01NRVVcMu"
      },
      "execution_count": null,
      "outputs": []
    },
    {
      "cell_type": "code",
      "source": [
        "train_feat,test_feat,train_fd,test_fd = model_features(model_resnet,train_data_dir, test_data_dir)"
      ],
      "metadata": {
        "colab": {
          "base_uri": "https://localhost:8080/"
        },
        "id": "9ULFbic_VpNO",
        "outputId": "6b1e47f3-7fd4-4e42-817f-d4d9230257cb"
      },
      "execution_count": null,
      "outputs": [
        {
          "output_type": "stream",
          "name": "stdout",
          "text": [
            "Found 3680 images belonging to 2 classes.\n",
            "Found 460 images belonging to 2 classes.\n",
            "3680/3680 [==============================] - 1229s 333ms/step\n",
            "460/460 [==============================] - 162s 353ms/step\n"
          ]
        }
      ]
    },
    {
      "cell_type": "code",
      "source": [
        "train_df = pd.DataFrame(train_feat)\n",
        "x_test = pd.DataFrame(test_feat)"
      ],
      "metadata": {
        "id": "euR9mlMtVs4a"
      },
      "execution_count": null,
      "outputs": []
    },
    {
      "cell_type": "code",
      "source": [
        "train_class = target_feat(train_fd)\n",
        "y_test = target_feat(test_fd)"
      ],
      "metadata": {
        "id": "xNODmK5RVwQc"
      },
      "execution_count": null,
      "outputs": []
    },
    {
      "cell_type": "code",
      "source": [
        "#Dividing the datasets into train and CV for hyperparameter tuning.\n",
        "x_train,x_cv,y_train,y_cv = train_test_split(train_df,train_class,stratify=train_class,test_size=0.20)"
      ],
      "metadata": {
        "id": "wt8xtSTHVyaK"
      },
      "execution_count": null,
      "outputs": []
    },
    {
      "cell_type": "code",
      "source": [
        "#Hyperparameter tuning\n",
        "alpha = [10 ** x for x in range(-4, 3)]\n",
        "cv_log_error_array=[]\n",
        "cv_acc_array = []\n",
        "for i in tqdm(alpha):\n",
        "    logisticR=LogisticRegression(penalty='l2',C=i,class_weight= 'balanced')\n",
        "    logisticR.fit(x_train,y_train)\n",
        "    cv_acc_array.append(accuracy_score(y_cv,logisticR.predict(x_cv)))\n",
        "\n",
        "for i in range(len(cv_acc_array)):\n",
        "    print('Accuracy for alpha '+str(alpha[i])+' is ',cv_acc_array[i])\n",
        "\n",
        "best_alpha = np.argmax(cv_acc_array)\n",
        "fig, ax = plt.subplots(figsize=(10,10))\n",
        "ax.plot(alpha, cv_acc_array,c='g')\n",
        "for i, txt in enumerate(np.round(cv_acc_array,3)):\n",
        "    ax.annotate((alpha[i],np.round(txt,3)), (alpha[i],cv_acc_array[i]))\n",
        "plt.grid()\n",
        "plt.title(\"Cross Validation accuracy for each alpha\")\n",
        "plt.xlabel(\"Alpha i's\")\n",
        "plt.ylabel(\"Accuracy measure\")\n",
        "plt.show()"
      ],
      "metadata": {
        "colab": {
          "base_uri": "https://localhost:8080/"
        },
        "id": "TOhCs1FIV2Sj",
        "outputId": "1fde9098-75bd-496d-9fb5-9bc77debd0b8"
      },
      "execution_count": null,
      "outputs": [
        {
          "output_type": "stream",
          "name": "stderr",
          "text": [
            "\r  0%|          | 0/7 [00:00<?, ?it/s]/usr/local/lib/python3.10/dist-packages/sklearn/linear_model/_logistic.py:458: ConvergenceWarning: lbfgs failed to converge (status=1):\n",
            "STOP: TOTAL NO. of ITERATIONS REACHED LIMIT.\n",
            "\n",
            "Increase the number of iterations (max_iter) or scale the data as shown in:\n",
            "    https://scikit-learn.org/stable/modules/preprocessing.html\n",
            "Please also refer to the documentation for alternative solver options:\n",
            "    https://scikit-learn.org/stable/modules/linear_model.html#logistic-regression\n",
            "  n_iter_i = _check_optimize_result(\n",
            " 14%|█▍        | 1/7 [01:54<11:25, 114.25s/it]"
          ]
        }
      ]
    },
    {
      "cell_type": "code",
      "source": [
        "#Final model using best paramaters from hyperparameter tuning.\n",
        "base_final=LogisticRegression(penalty='l2',C=alpha[best_alpha])\n",
        "base_final.fit(x_train,y_train)\n",
        "\n",
        "#saving the model\n",
        "save_path = '/content/drive/MyDrive/resnet/resnet_stage1_baseline.sav'\n",
        "pickle.dump(base_final,open(save_path,'wb'))\n",
        "\n",
        "#Predcitions and visualization of Confusion matrix\n",
        "predict_y = base_final.predict(x_test)\n",
        "print ('Accuracy on test data for final baseline model',accuracy_score(y_test, predict_y))\n",
        "precision,recall = compute_precision_recall(y_test,predict_y)\n",
        "print ('Precision on test data for final baseline model',precision)\n",
        "print ('Recall on test data for final baseline model',recall)\n",
        "binary_confusion_matrix(y_test,predict_y,stage1_class_labels)"
      ],
      "metadata": {
        "id": "GgvoPnUPWBG_"
      },
      "execution_count": null,
      "outputs": []
    },
    {
      "cell_type": "code",
      "source": [
        "resnet_scores = resnet_scores.append({'Model':'Resnet_stage1_baseline','Accuracy':'0.930','Precision':'0.923','Recall':'0.940'},ignore_index= True)"
      ],
      "metadata": {
        "id": "z_wmf7koWHvu"
      },
      "execution_count": null,
      "outputs": []
    },
    {
      "cell_type": "markdown",
      "source": [
        "### **STAGE 2**"
      ],
      "metadata": {
        "id": "cBw5PpvqazVU"
      }
    },
    {
      "cell_type": "code",
      "source": [
        "train_data_dir = '/content/drive/MyDrive/data_augmentation_1/data_2/train'\n",
        "test_data_dir = '/content/drive/MyDrive/data_augmentation_1/data_2/test'"
      ],
      "metadata": {
        "id": "yC1SlMgwWNUB"
      },
      "execution_count": null,
      "outputs": []
    },
    {
      "cell_type": "code",
      "source": [
        "train_feat,test_feat,train_fd,test_fd = model_features(model_resnet,train_data_dir, test_data_dir)"
      ],
      "metadata": {
        "id": "ooEx26SnbBej"
      },
      "execution_count": null,
      "outputs": []
    },
    {
      "cell_type": "code",
      "source": [
        "train_df = pd.DataFrame(train_feat)\n",
        "x_test = pd.DataFrame(test_feat)"
      ],
      "metadata": {
        "id": "YW674tTlbHY_"
      },
      "execution_count": null,
      "outputs": []
    },
    {
      "cell_type": "code",
      "source": [
        "train_class = target_feat(train_fd)\n",
        "y_test = target_feat(test_fd)"
      ],
      "metadata": {
        "id": "86FU0VBCbJ7t"
      },
      "execution_count": null,
      "outputs": []
    },
    {
      "cell_type": "code",
      "source": [
        "#Dividing the datasets into train and CV for hyperparameter tuning.\n",
        "x_train,x_cv,y_train,y_cv = train_test_split(train_df,train_class,stratify=train_class,test_size=0.20)"
      ],
      "metadata": {
        "id": "1Zl0a5S6bM3V"
      },
      "execution_count": null,
      "outputs": []
    },
    {
      "cell_type": "code",
      "source": [
        "#Hyperparameter tuning\n",
        "alpha = [10 ** x for x in range(-4, 3)]\n",
        "cv_log_error_array=[]\n",
        "cv_acc_array = []\n",
        "for i in tqdm(alpha):\n",
        "    logisticR=LogisticRegression(penalty='l2',C=i,class_weight= 'balanced')\n",
        "    logisticR.fit(x_train,y_train)\n",
        "    cv_acc_array.append(accuracy_score(y_cv,logisticR.predict(x_cv)))\n",
        "\n",
        "for i in range(len(cv_acc_array)):\n",
        "    print('Accuracy for alpha '+str(alpha[i])+' is ',cv_acc_array[i])\n",
        "\n",
        "best_alpha = np.argmax(cv_acc_array)\n",
        "fig, ax = plt.subplots(figsize=(10,10))\n",
        "ax.plot(alpha, cv_acc_array,c='g')\n",
        "for i, txt in enumerate(np.round(cv_acc_array,3)):\n",
        "    ax.annotate((alpha[i],np.round(txt,3)), (alpha[i],cv_acc_array[i]))\n",
        "plt.grid()\n",
        "plt.title(\"Cross Validation accuracy for each alpha\")\n",
        "plt.xlabel(\"Alpha i's\")\n",
        "plt.ylabel(\"Accuracy measure\")\n",
        "plt.show()"
      ],
      "metadata": {
        "id": "QJLOR4lDbnYi"
      },
      "execution_count": null,
      "outputs": []
    },
    {
      "cell_type": "code",
      "source": [
        "#Final model using best paramaters from hyperparameter tuning.\n",
        "base_final=LogisticRegression(penalty='l2',C=alpha[best_alpha])\n",
        "base_final.fit(x_train,y_train)\n",
        "\n",
        "#saving the model\n",
        "save_path = '/content/drive/MyDrive/resnet/resnet_stage2_baseline.sav'\n",
        "pickle.dump(base_final,open(save_path,'wb'))\n",
        "\n",
        "#Predcitions and visualization of Confusion matrix\n",
        "predict_y = base_final.predict(x_test)\n",
        "print ('Accuracy on test data for final baseline model',accuracy_score(y_test, predict_y))\n",
        "multiclass_confusion_matrix(y_test,predict_y,stage2_class_labels)"
      ],
      "metadata": {
        "id": "caRpW2InbrkK"
      },
      "execution_count": null,
      "outputs": []
    },
    {
      "cell_type": "code",
      "source": [
        "resnet_scores = resnet_scores.append({'Model':'Resnet_stage2_baseline','Accuracy':'0.782','Precision':'0.791','Recall':'0.779'},ignore_index= True)"
      ],
      "metadata": {
        "id": "ZM3a6Nk7b0Zo"
      },
      "execution_count": null,
      "outputs": []
    },
    {
      "cell_type": "markdown",
      "source": [
        "### **STAGE 3**"
      ],
      "metadata": {
        "id": "3qfFC6Trb5xh"
      }
    },
    {
      "cell_type": "code",
      "source": [
        "train_data_dir = '/content/drive/MyDrive/data_augmentation_1/data_3/train'\n",
        "test_data_dir = '/content/drive/MyDrive/data_augmentation_1/data_3/test'"
      ],
      "metadata": {
        "id": "DzIamK-Ub5SG"
      },
      "execution_count": null,
      "outputs": []
    },
    {
      "cell_type": "code",
      "source": [
        "train_feat,test_feat,train_fd,test_fd = model_features(model_resnet,train_data_dir, test_data_dir)"
      ],
      "metadata": {
        "id": "YNgEdIgccG29"
      },
      "execution_count": null,
      "outputs": []
    },
    {
      "cell_type": "code",
      "source": [
        "train_df = pd.DataFrame(train_feat)\n",
        "x_test = pd.DataFrame(test_feat)"
      ],
      "metadata": {
        "id": "nHiCs0n6cK0v"
      },
      "execution_count": null,
      "outputs": []
    },
    {
      "cell_type": "code",
      "source": [
        "train_class = target_feat(train_fd)\n",
        "y_test = target_feat(test_fd)"
      ],
      "metadata": {
        "id": "wo_MhCXUcNRh"
      },
      "execution_count": null,
      "outputs": []
    },
    {
      "cell_type": "code",
      "source": [
        "#Dividing the datasets into train and CV for hyperparameter tuning.\n",
        "x_train,x_cv,y_train,y_cv = train_test_split(train_df,train_class,stratify=train_class,test_size=0.20)"
      ],
      "metadata": {
        "id": "Yg_Qi5_mcO_K"
      },
      "execution_count": null,
      "outputs": []
    },
    {
      "cell_type": "code",
      "source": [
        "#Hyperparameter tuning\n",
        "alpha = [10 ** x for x in range(-4, 3)]\n",
        "cv_log_error_array=[]\n",
        "cv_acc_array = []\n",
        "for i in tqdm(alpha):\n",
        "    logisticR=LogisticRegression(penalty='l2',C=i,class_weight= 'balanced')\n",
        "    logisticR.fit(x_train,y_train)\n",
        "    cv_acc_array.append(accuracy_score(y_cv,logisticR.predict(x_cv)))\n",
        "\n",
        "for i in range(len(cv_acc_array)):\n",
        "    print('Accuracy for alpha '+str(alpha[i])+' is ',cv_acc_array[i])\n",
        "\n",
        "best_alpha = np.argmax(cv_acc_array)\n",
        "fig, ax = plt.subplots(figsize=(10,10))\n",
        "ax.plot(alpha, cv_acc_array,c='g')\n",
        "for i, txt in enumerate(np.round(cv_acc_array,3)):\n",
        "    ax.annotate((alpha[i],np.round(txt,3)), (alpha[i],cv_acc_array[i]))\n",
        "plt.grid()\n",
        "plt.title(\"Cross Validation accuracy for each alpha\")\n",
        "plt.xlabel(\"Alpha i's\")\n",
        "plt.ylabel(\"Accuracy measure\")\n",
        "plt.show()"
      ],
      "metadata": {
        "id": "eMfqUk2ncR83"
      },
      "execution_count": null,
      "outputs": []
    },
    {
      "cell_type": "code",
      "source": [
        "#Final model using best paramaters from hyperparameter tuning.\n",
        "base_final=LogisticRegression(penalty='l2',C=alpha[best_alpha])\n",
        "base_final.fit(x_train,y_train)\n",
        "\n",
        "#saving the model\n",
        "save_path = '/content/drive/MyDrive/resnet/resnet_stage3_baseline.sav'\n",
        "pickle.dump(base_final,open(save_path,'wb'))\n",
        "\n",
        "#Predcitions and visualization of Confusion matrix\n",
        "predict_y = base_final.predict(x_test)\n",
        "print ('Accuracy on test data for final baseline model',accuracy_score(y_test, predict_y))\n",
        "multiclass_confusion_matrix(y_test,predict_y,stage3_class_labels)"
      ],
      "metadata": {
        "id": "wgsgn_N5cXJC"
      },
      "execution_count": null,
      "outputs": []
    },
    {
      "cell_type": "code",
      "source": [
        "resnet_scores = resnet_scores.append({'Model':'Resnet_stage3_baseline','Accuracy':'0.637','Precision':'0.633','Recall':'0.621'},ignore_index= True)"
      ],
      "metadata": {
        "id": "s64SDAUDceAX"
      },
      "execution_count": null,
      "outputs": []
    },
    {
      "cell_type": "markdown",
      "source": [
        "### **CNN (Training FC Layers only)**"
      ],
      "metadata": {
        "id": "RstgBfItcjR0"
      }
    },
    {
      "cell_type": "code",
      "source": [
        "def create_model(n_classes,output_activation):\n",
        "    os.environ['PYTHONHASHSEED'] = '0'\n",
        "    tf.keras.backend.clear_session()\n",
        "\n",
        "    ## Set the random seed values to regenerate the model.\n",
        "    np.random.seed(0)\n",
        "    rn.seed(0)\n",
        "\n",
        "    #Input layer\n",
        "    input_layer = Input(shape=(256,256,3),name='Input_Layer')\n",
        "\n",
        "    #Adding pretrained model\n",
        "    resnet = applications.ResNet50(include_top=False,weights='imagenet',input_tensor = input_layer)\n",
        "    resnet = non_trainable(resnet)\n",
        "\n",
        "    #Flatten\n",
        "    flatten = Flatten(data_format='channels_last',name='Flatten')(resnet.output)\n",
        "\n",
        "    #FC layer\n",
        "    FC1 = Dense(units=512,activation='relu',name='FC1')(flatten)\n",
        "\n",
        "    #FC layer\n",
        "    FC2 = Dense(units=256,activation='relu',name='FC2')(FC1)\n",
        "\n",
        "    #Dropout layer\n",
        "    droput1 = Dropout(0.5)(FC2)\n",
        "\n",
        "    #output layer\n",
        "    Out = Dense(units=n_classes,activation=output_activation,name='Output')(droput1)\n",
        "\n",
        "    #Creating the Model\n",
        "    model = Model(inputs=input_layer,outputs=Out)\n",
        "\n",
        "    return model"
      ],
      "metadata": {
        "id": "2JCIS7yOciX0"
      },
      "execution_count": null,
      "outputs": []
    },
    {
      "cell_type": "markdown",
      "source": [
        "### **STAGE 1**"
      ],
      "metadata": {
        "id": "_Gy28tg4cxPN"
      }
    },
    {
      "cell_type": "code",
      "source": [
        "model = create_model(1,'sigmoid')"
      ],
      "metadata": {
        "id": "nV_49_RXcwbg"
      },
      "execution_count": null,
      "outputs": []
    },
    {
      "cell_type": "code",
      "source": [
        "#Compiling the model\n",
        "model.compile(loss = 'binary_crossentropy', optimizer = optimizers.SGD(lr=0.00001, momentum=0.9), metrics=[\"accuracy\"])"
      ],
      "metadata": {
        "id": "Pgagi6Cqc3EJ"
      },
      "execution_count": null,
      "outputs": []
    },
    {
      "cell_type": "code",
      "source": [
        "model.summary()"
      ],
      "metadata": {
        "id": "K6MFpl-Cc6Ob"
      },
      "execution_count": null,
      "outputs": []
    },
    {
      "cell_type": "code",
      "source": [
        "#Model saving based on validation accuracy score\n",
        "filepath=\"/content/drive/MyDrive/resnet/resnet_stage1_fc-{val_accuracy:.3f}.hdf5\"\n",
        "checkpoint = ModelCheckpoint(filepath=filepath, monitor='val_accuracy',  verbose=1, save_best_only=True, mode='auto')"
      ],
      "metadata": {
        "id": "0-1KQ-cHc8Ao"
      },
      "execution_count": null,
      "outputs": []
    },
    {
      "cell_type": "code",
      "source": [
        "traindatagen = ImageDataGenerator()\n",
        "testdatagen = ImageDataGenerator()"
      ],
      "metadata": {
        "id": "yI2RML_wdHg7"
      },
      "execution_count": null,
      "outputs": []
    },
    {
      "cell_type": "code",
      "source": [
        "train_data_dir = '/content/drive/MyDrive/data_augmentation_1/data_1/train'\n",
        "test_data_dir = '/content/drive/MyDrive/data_augmentation_1/data_1/test'\n",
        "\n",
        "train_generator = traindatagen.flow_from_directory(train_data_dir,target_size = (256,256),batch_size = batch_size, class_mode = \"binary\")\n",
        "test_generator = testdatagen.flow_from_directory(test_data_dir,target_size = (256,256),batch_size = batch_size, class_mode = \"binary\")\n",
        "\n",
        "n_validation_steps = 460/batch_size\n",
        "n_steps_epoch = 3680/batch_size"
      ],
      "metadata": {
        "id": "0uDZvjCQdLc3"
      },
      "execution_count": null,
      "outputs": []
    },
    {
      "cell_type": "code",
      "source": [
        "model.fit(train_generator ,validation_data = test_generator,validation_steps = n_validation_steps,steps_per_epoch=n_steps_epoch,epochs=50,callbacks=[checkpoint])"
      ],
      "metadata": {
        "id": "ndWMrJKndTBM"
      },
      "execution_count": null,
      "outputs": []
    },
    {
      "cell_type": "code",
      "source": [
        "for i in ['loss','accuracy']:\n",
        "  plot_metrics(model,i)"
      ],
      "metadata": {
        "id": "qybUPWhTdXUP"
      },
      "execution_count": null,
      "outputs": []
    },
    {
      "cell_type": "code",
      "source": [
        "x_test = testdatagen.flow_from_directory(test_data_dir,target_size = (256,256),batch_size = 1, class_mode = \"binary\",shuffle = False)"
      ],
      "metadata": {
        "id": "IrOLsMPudc7k"
      },
      "execution_count": null,
      "outputs": []
    },
    {
      "cell_type": "code",
      "source": [
        "best_model = load_model('/content/drive/MyDrive/resnet/resnet_stage1_fc-0.933.hdf5')"
      ],
      "metadata": {
        "id": "l3nUd7mRdhd5"
      },
      "execution_count": null,
      "outputs": []
    },
    {
      "cell_type": "code",
      "source": [
        "y_pred = best_model.predict(x_test)"
      ],
      "metadata": {
        "id": "U4WXeAzbdpqN"
      },
      "execution_count": null,
      "outputs": []
    },
    {
      "cell_type": "code",
      "source": [
        "y_true = target_feat(x_test)\n",
        "y_predicted = []\n",
        "for i in y_pred:\n",
        "  if i <= .5:\n",
        "    y_predicted.append('damaged')\n",
        "  elif i > .5:\n",
        "    y_predicted.append('not_damaged')"
      ],
      "metadata": {
        "id": "0hJyobfOdr2i"
      },
      "execution_count": null,
      "outputs": []
    },
    {
      "cell_type": "code",
      "source": [
        "precision,recall = compute_precision_recall(y_true,y_predicted)\n",
        "print ('Precision on test data for final baseline model',precision)\n",
        "print ('Recall on test data for final baseline model',recall)\n",
        "binary_confusion_matrix(y_true,y_predicted,stage1_class_labels)"
      ],
      "metadata": {
        "id": "9mAkLIFLdufX"
      },
      "execution_count": null,
      "outputs": []
    },
    {
      "cell_type": "code",
      "source": [
        "resnet_scores = resnet_scores.append({'Model':'Resnet_stage1 FC','Accuracy':'0.933','Precision':'0.938','Recall':'0.926'},ignore_index= True)"
      ],
      "metadata": {
        "id": "5QeKunxzdw14"
      },
      "execution_count": null,
      "outputs": []
    },
    {
      "cell_type": "markdown",
      "source": [
        "### **STAGE 2**"
      ],
      "metadata": {
        "id": "J3ChYD1jd2Ec"
      }
    },
    {
      "cell_type": "code",
      "source": [
        "model = create_model(3,'softmax')"
      ],
      "metadata": {
        "id": "_4XViGnHd0nM"
      },
      "execution_count": null,
      "outputs": []
    },
    {
      "cell_type": "code",
      "source": [
        "#Compiling the model\n",
        "model.compile(loss = 'categorical_crossentropy', optimizer = optimizers.SGD(lr=0.00001, momentum=0.9), metrics=[\"accuracy\"])"
      ],
      "metadata": {
        "id": "PbY9b5kpd7Fl"
      },
      "execution_count": null,
      "outputs": []
    },
    {
      "cell_type": "code",
      "source": [
        "model.summary()"
      ],
      "metadata": {
        "id": "Nbt_9RbneAfn"
      },
      "execution_count": null,
      "outputs": []
    },
    {
      "cell_type": "code",
      "source": [
        "#Model saving based on validation accuracy score\n",
        "filepath=\"/content/drive/MyDrive/resnet/resnet_stage2_fc-{val_accuracy:.3f}.hdf5\"\n",
        "checkpoint = ModelCheckpoint(filepath=filepath, monitor='val_accuracy',verbose=1, save_best_only=True, mode='auto')\n"
      ],
      "metadata": {
        "id": "yytyWABpeCFk"
      },
      "execution_count": null,
      "outputs": []
    },
    {
      "cell_type": "code",
      "source": [
        "traindatagen = ImageDataGenerator()\n",
        "testdatagen = ImageDataGenerator()"
      ],
      "metadata": {
        "id": "jhaidB5deL9K"
      },
      "execution_count": null,
      "outputs": []
    },
    {
      "cell_type": "code",
      "source": [
        "train_data_dir = '/content/drive/MyDrive/data_augmentation_1/data_2/train'\n",
        "test_data_dir = '/content/drive/MyDrive/data_augmentation_1/data_2/test'\n",
        "\n",
        "train_generator = traindatagen.flow_from_directory(train_data_dir,target_size = (256,256),batch_size = batch_size)\n",
        "test_generator = testdatagen.flow_from_directory(test_data_dir,target_size = (256,256),batch_size = batch_size)\n",
        "\n",
        "n_validation_steps = 179/batch_size\n",
        "n_steps_epoch = 1970/batch_size"
      ],
      "metadata": {
        "id": "unwequLqeN6X"
      },
      "execution_count": null,
      "outputs": []
    },
    {
      "cell_type": "code",
      "source": [
        "model.fit(train_generator ,validation_data = test_generator,validation_steps = n_validation_steps,steps_per_epoch=n_steps_epoch,epochs=50,callbacks=[checkpoint])"
      ],
      "metadata": {
        "id": "m57c3SmweSEU"
      },
      "execution_count": null,
      "outputs": []
    },
    {
      "cell_type": "code",
      "source": [
        "for i in ['loss','accuracy']:\n",
        "  plot_metrics(model,i)"
      ],
      "metadata": {
        "id": "mtmntdHXeV8J"
      },
      "execution_count": null,
      "outputs": []
    },
    {
      "cell_type": "code",
      "source": [
        "x_test = testdatagen.flow_from_directory(test_data_dir,target_size = (256,256),batch_size = 1,shuffle = False)"
      ],
      "metadata": {
        "id": "zYnbAGiceYUm"
      },
      "execution_count": null,
      "outputs": []
    },
    {
      "cell_type": "code",
      "source": [
        "best_model = load_model('/content/drive/MyDrive/resnet/resnet_stage2_fc-0.771.hdf5')"
      ],
      "metadata": {
        "id": "Ds1ZPG1yeb3d"
      },
      "execution_count": null,
      "outputs": []
    },
    {
      "cell_type": "code",
      "source": [
        "y_pred = best_model.predict(x_test)"
      ],
      "metadata": {
        "id": "zMm8naaWennp"
      },
      "execution_count": null,
      "outputs": []
    },
    {
      "cell_type": "code",
      "source": [
        "y_true = target_feat(x_test)\n",
        "y_predicted = []\n",
        "for i in y_pred:\n",
        "  n = np.argmax(i)\n",
        "  if n == 0:\n",
        "    y_predicted.append('front')\n",
        "  elif n== 1:\n",
        "    y_predicted.append('rear')\n",
        "  elif n == 2:\n",
        "    y_predicted.append('side')"
      ],
      "metadata": {
        "id": "BJlqN-nuepcS"
      },
      "execution_count": null,
      "outputs": []
    },
    {
      "cell_type": "code",
      "source": [
        "multiclass_confusion_matrix(y_true,y_predicted,stage2_class_labels)"
      ],
      "metadata": {
        "id": "0xiawcgUeq8u"
      },
      "execution_count": null,
      "outputs": []
    },
    {
      "cell_type": "code",
      "source": [
        "resnet_scores = resnet_scores.append({'Model':'Resnet_stage2 FC','Accuracy':'0.771','Precision':'0.788','Recall':'0.759'},ignore_index= True)"
      ],
      "metadata": {
        "id": "ER45Eer6esl6"
      },
      "execution_count": null,
      "outputs": []
    },
    {
      "cell_type": "markdown",
      "source": [
        "### **STAGE 3**"
      ],
      "metadata": {
        "id": "fCqaS5KrewYL"
      }
    },
    {
      "cell_type": "code",
      "source": [
        "model = create_model(3,'softmax')"
      ],
      "metadata": {
        "id": "SgPmVG-DevxO"
      },
      "execution_count": null,
      "outputs": []
    },
    {
      "cell_type": "code",
      "source": [
        "#Compiling the model\n",
        "model.compile(loss = 'categorical_crossentropy', optimizer = optimizers.SGD(lr=0.00001, momentum=0.9), metrics=[\"accuracy\"])"
      ],
      "metadata": {
        "id": "CxaIlSCye1AM"
      },
      "execution_count": null,
      "outputs": []
    },
    {
      "cell_type": "code",
      "source": [
        "model.summary()"
      ],
      "metadata": {
        "id": "JfKAdCM0e2yF"
      },
      "execution_count": null,
      "outputs": []
    },
    {
      "cell_type": "code",
      "source": [
        "#Model saving based on validation accuracy score\n",
        "filepath=\"/content/drive/MyDrive/resnet/resnet_stage3_fc-{val_accuracy:.3f}.hdf5\"\n",
        "checkpoint = ModelCheckpoint(filepath=filepath, monitor='val_accuracy',verbose=1, save_best_only=True, mode='auto')"
      ],
      "metadata": {
        "id": "KxtnHTnle4Yq"
      },
      "execution_count": null,
      "outputs": []
    },
    {
      "cell_type": "code",
      "source": [
        "traindatagen = ImageDataGenerator()\n",
        "testdatagen = ImageDataGenerator()"
      ],
      "metadata": {
        "id": "kLLXldh5fFBv"
      },
      "execution_count": null,
      "outputs": []
    },
    {
      "cell_type": "code",
      "source": [
        "train_data_dir = '/content/drive/MyDrive/data_augmentation_1/data_3/train'\n",
        "test_data_dir = '/content/drive/MyDrive/data_augmentation_1/data_3/test'\n",
        "\n",
        "train_generator = traindatagen.flow_from_directory(train_data_dir,target_size = (256,256),batch_size = batch_size)\n",
        "test_generator = testdatagen.flow_from_directory(test_data_dir,target_size = (256,256),batch_size = batch_size)\n",
        "\n",
        "n_validation_steps = 171/batch_size\n",
        "n_steps_epoch = 1958/batch_size"
      ],
      "metadata": {
        "id": "vuUfUX9ffJRc"
      },
      "execution_count": null,
      "outputs": []
    },
    {
      "cell_type": "code",
      "source": [
        "model.fit(train_generator ,validation_data = test_generator,validation_steps = n_validation_steps,steps_per_epoch=n_steps_epoch,epochs=50,callbacks=[checkpoint])"
      ],
      "metadata": {
        "id": "YqlJfjVEfQUg"
      },
      "execution_count": null,
      "outputs": []
    },
    {
      "cell_type": "code",
      "source": [
        "for i in ['loss','accuracy']:\n",
        "  plot_metrics(model,i)"
      ],
      "metadata": {
        "id": "k10Bate8fUus"
      },
      "execution_count": null,
      "outputs": []
    },
    {
      "cell_type": "code",
      "source": [
        "x_test = testdatagen.flow_from_directory(test_data_dir,target_size = (256,256),batch_size = 1,shuffle = False)"
      ],
      "metadata": {
        "id": "tjr5tbAFfXyd"
      },
      "execution_count": null,
      "outputs": []
    },
    {
      "cell_type": "code",
      "source": [
        "best_model = load_model('/content/drive/MyDrive/resnet/resnet_stage3_fc-0.643.hdf5')"
      ],
      "metadata": {
        "id": "haeUXxZrfb7z"
      },
      "execution_count": null,
      "outputs": []
    },
    {
      "cell_type": "code",
      "source": [
        "y_pred = best_model.predict(x_test)"
      ],
      "metadata": {
        "id": "72A8rIqRfhC5"
      },
      "execution_count": null,
      "outputs": []
    },
    {
      "cell_type": "code",
      "source": [
        "y_true = target_feat(x_test)\n",
        "y_predicted = []\n",
        "for i in y_pred:\n",
        "    n = np.argmax(i)\n",
        "  if n == 0:\n",
        "    y_predicted.append('minor')\n",
        "  elif n== 1:\n",
        "    y_predicted.append('moderate')\n",
        "  elif n == 2:\n",
        "    y_predicted.append('severe')"
      ],
      "metadata": {
        "id": "-jeOsjVCfj68"
      },
      "execution_count": null,
      "outputs": []
    },
    {
      "cell_type": "code",
      "source": [
        "multiclass_confusion_matrix(y_true,y_predicted,stage3_class_labels)"
      ],
      "metadata": {
        "id": "ea5jyIX-fl_X"
      },
      "execution_count": null,
      "outputs": []
    },
    {
      "cell_type": "code",
      "source": [
        "resnet_scores = resnet_scores.append({'Model':'Resnet_stage3 FC','Accuracy':'0.643','Precision':'0.628','Recall':'0.630'},ignore_index= True)"
      ],
      "metadata": {
        "id": "l6FTxIqsfn9l"
      },
      "execution_count": null,
      "outputs": []
    },
    {
      "cell_type": "markdown",
      "source": [
        "### **CNN (Training All Layers only)**"
      ],
      "metadata": {
        "id": "7lTCRESdfs2j"
      }
    },
    {
      "cell_type": "code",
      "source": [
        "def create_model(n_classes,output_activation):\n",
        "    os.environ['PYTHONHASHSEED'] = '0'\n",
        "    tf.keras.backend.clear_session()\n",
        "\n",
        "    ## Set the random seed values to regenerate the model.\n",
        "    np.random.seed(0)\n",
        "    rn.seed(0)\n",
        "\n",
        "    #Input layer\n",
        "    input_layer = Input(shape=(256,256,3),name='Input_Layer')\n",
        "\n",
        "    #Adding pretrained model\n",
        "    resnet = applications.ResNet50(include_top=False,weights='imagenet',input_tensor = input_layer)\n",
        "\n",
        "    #Flatten\n",
        "    flatten = Flatten(data_format='channels_last',name='Flatten')(resnet.output)\n",
        "\n",
        "    #FC layer\n",
        "    FC1 = Dense(units=512,activation='relu',name='FC1')(flatten)\n",
        "\n",
        "    #FC layer\n",
        "    FC2 = Dense(units=256,activation='relu',name='FC2')(FC1)\n",
        "\n",
        "    #Dropout layer\n",
        "    droput1 = Dropout(0.5)(FC2)\n",
        "\n",
        "    #output layer\n",
        "    Out = Dense(units=n_classes,activation=output_activation,name='Output')(droput1)\n",
        "\n",
        "    #Creating the Model\n",
        "    model = Model(inputs=input_layer,outputs=Out)\n",
        "\n",
        "    return model"
      ],
      "metadata": {
        "id": "MCPDIerwfrmR"
      },
      "execution_count": null,
      "outputs": []
    },
    {
      "cell_type": "markdown",
      "source": [
        "### **STAGE 1**"
      ],
      "metadata": {
        "id": "SxKO5iDKf7gs"
      }
    },
    {
      "cell_type": "code",
      "source": [
        "model = create_model(1,'sigmoid')"
      ],
      "metadata": {
        "id": "y9lfVp11f6Jn"
      },
      "execution_count": null,
      "outputs": []
    },
    {
      "cell_type": "code",
      "source": [
        "#Compiling the model\n",
        "model.compile(loss = 'binary_crossentropy', optimizer = optimizers.SGD(lr=0.00001, momentum=0.9), metrics=[\"accuracy\"])"
      ],
      "metadata": {
        "id": "nmKZEtihgAb6"
      },
      "execution_count": null,
      "outputs": []
    },
    {
      "cell_type": "code",
      "source": [
        "model.summary()"
      ],
      "metadata": {
        "id": "8ZO_hrYPgD2E"
      },
      "execution_count": null,
      "outputs": []
    },
    {
      "cell_type": "code",
      "source": [
        "#Model saving based on validation accuracy score\n",
        "filepath=\"/content/drive/MyDrive/resnet/resnet_stage1_all-{val_accuracy:.3f}.hdf5\"\n",
        "checkpoint = ModelCheckpoint(filepath=filepath, monitor='val_accuracy',  verbose=1, save_best_only=True, mode='auto')"
      ],
      "metadata": {
        "id": "z-OOfWKmgGqj"
      },
      "execution_count": null,
      "outputs": []
    },
    {
      "cell_type": "code",
      "source": [
        "traindatagen = ImageDataGenerator()\n",
        "testdatagen = ImageDataGenerator()"
      ],
      "metadata": {
        "id": "LxarrRhvgTtR"
      },
      "execution_count": null,
      "outputs": []
    },
    {
      "cell_type": "code",
      "source": [
        "train_data_dir = '/content/drive/MyDrive/data_augmentation_1/data_1/train'\n",
        "test_data_dir = '/content/drive/MyDrive/data_augmentation_1/data_1/test'\n",
        "\n",
        "train_generator = traindatagen.flow_from_directory(train_data_dir,target_size = (256,256),batch_size = batch_size, class_mode = \"binary\")\n",
        "test_generator = testdatagen.flow_from_directory(test_data_dir,target_size = (256,256),batch_size = batch_size, class_mode = \"binary\")\n",
        "\n",
        "n_validation_steps = 460/batch_size\n",
        "n_steps_epoch = 3680/batch_size"
      ],
      "metadata": {
        "id": "lq1qLsAegVVt"
      },
      "execution_count": null,
      "outputs": []
    },
    {
      "cell_type": "code",
      "source": [
        "model.fit(train_generator ,validation_data = test_generator,validation_steps = n_validation_steps,steps_per_epoch=n_steps_epoch,epochs=50,callbacks=[checkpoint])"
      ],
      "metadata": {
        "id": "jqf0xrNPgZpq"
      },
      "execution_count": null,
      "outputs": []
    },
    {
      "cell_type": "code",
      "source": [
        "for i in ['loss','accuracy']:\n",
        "  plot_metrics(model,i)"
      ],
      "metadata": {
        "id": "ZxxmEnl3geEy"
      },
      "execution_count": null,
      "outputs": []
    },
    {
      "cell_type": "code",
      "source": [
        "x_test = testdatagen.flow_from_directory(test_data_dir,target_size = (256,256),batch_size = 1, class_mode = \"binary\",shuffle = False)"
      ],
      "metadata": {
        "id": "nyvFmVu5gh0S"
      },
      "execution_count": null,
      "outputs": []
    },
    {
      "cell_type": "code",
      "source": [
        "best_model = load_model('/content/drive/MyDrive/resnet/resnet_stage1_all-0.961.hdf5')"
      ],
      "metadata": {
        "id": "efW7tnZcgl5c"
      },
      "execution_count": null,
      "outputs": []
    },
    {
      "cell_type": "code",
      "source": [
        "y_pred = best_model.predict(x_test)"
      ],
      "metadata": {
        "id": "mdjvQpZTgrTr"
      },
      "execution_count": null,
      "outputs": []
    },
    {
      "cell_type": "code",
      "source": [
        "y_true = target_feat(x_test)\n",
        "y_predicted = []\n",
        "for i in y_pred:\n",
        "  if i <= .5:\n",
        "    y_predicted.append('damaged')\n",
        "  elif i > .5:\n",
        "    y_predicted.append('not_damaged')"
      ],
      "metadata": {
        "id": "IXdsg_1DgtVL"
      },
      "execution_count": null,
      "outputs": []
    },
    {
      "cell_type": "code",
      "source": [
        "precision,recall = compute_precision_recall(y_true,y_predicted)\n",
        "print ('Precision on test data for final baseline model',precision)\n",
        "print ('Recall on test data for final baseline model',recall)\n",
        "binary_confusion_matrix(y_true,y_predicted,stage1_class_labels)"
      ],
      "metadata": {
        "id": "pyMkKy0WgvMY"
      },
      "execution_count": null,
      "outputs": []
    },
    {
      "cell_type": "code",
      "source": [
        "resnet_scores = resnet_scores.append({'Model':'Resnet_stage1 all','Accuracy':'0.961','Precision':'0.945','Recall':'0.978'},ignore_index= True)"
      ],
      "metadata": {
        "id": "WveEVkxHgw3D"
      },
      "execution_count": null,
      "outputs": []
    },
    {
      "cell_type": "markdown",
      "source": [
        "### **STAGE 2**"
      ],
      "metadata": {
        "id": "omgnuynog0LL"
      }
    },
    {
      "cell_type": "code",
      "source": [
        "model = create_model(3,'softmax')"
      ],
      "metadata": {
        "id": "pB46z0ZCgz5o"
      },
      "execution_count": null,
      "outputs": []
    },
    {
      "cell_type": "code",
      "source": [
        "#Compiling the model\n",
        "model.compile(loss = 'categorical_crossentropy', optimizer = optimizers.SGD(lr=0.00001, momentum=0.9), metrics=[\"accuracy\"])"
      ],
      "metadata": {
        "id": "1ZEWdsFAg5At"
      },
      "execution_count": null,
      "outputs": []
    },
    {
      "cell_type": "code",
      "source": [
        "model.summary()"
      ],
      "metadata": {
        "id": "0dWkaGpTg71_"
      },
      "execution_count": null,
      "outputs": []
    },
    {
      "cell_type": "code",
      "source": [
        "#Model saving based on validation accuracy score\n",
        "filepath=\"/content/drive/MyDrive/resnet/resnet_stage2_all-{val_accuracy:.3f}.hdf5\"\n",
        "checkpoint = ModelCheckpoint(filepath=filepath, monitor='val_accuracy',verbose=1, save_best_only=True, mode='auto')\n"
      ],
      "metadata": {
        "id": "bRTf9skLg9sW"
      },
      "execution_count": null,
      "outputs": []
    },
    {
      "cell_type": "code",
      "source": [
        "traindatagen = ImageDataGenerator()\n",
        "testdatagen = ImageDataGenerator()"
      ],
      "metadata": {
        "id": "USHBXnBmhHLd"
      },
      "execution_count": null,
      "outputs": []
    },
    {
      "cell_type": "code",
      "source": [
        "train_data_dir = '/content/drive/MyDrive/data_augmentation_1/data_2/train'\n",
        "test_data_dir = '/content/drive/MyDrive/data_augmentation_1/data_2/test'\n",
        "\n",
        "train_generator = traindatagen.flow_from_directory(train_data_dir,target_size = (256,256),batch_size = batch_size)\n",
        "test_generator = testdatagen.flow_from_directory(test_data_dir,target_size = (256,256),batch_size = batch_size)\n",
        "\n",
        "n_validation_steps = 179/batch_size\n",
        "n_steps_epoch = 1970/batch_size"
      ],
      "metadata": {
        "id": "ZRdBZZ4ChI4H"
      },
      "execution_count": null,
      "outputs": []
    },
    {
      "cell_type": "code",
      "source": [
        "model.fit(train_generator ,validation_data = test_generator,validation_steps = n_validation_steps,steps_per_epoch=n_steps_epoch,epochs=50,callbacks=[checkpoint])"
      ],
      "metadata": {
        "colab": {
          "base_uri": "https://localhost:8080/",
          "height": 141
        },
        "id": "POjHUGZhhQLV",
        "outputId": "171b92fe-3c1f-4899-da59-4c1548cc0841"
      },
      "execution_count": null,
      "outputs": [
        {
          "output_type": "error",
          "ename": "NameError",
          "evalue": "name 'model' is not defined",
          "traceback": [
            "\u001b[0;31m---------------------------------------------------------------------------\u001b[0m",
            "\u001b[0;31mNameError\u001b[0m                                 Traceback (most recent call last)",
            "\u001b[0;32m<ipython-input-1-5ae4fc8e4a9f>\u001b[0m in \u001b[0;36m<cell line: 1>\u001b[0;34m()\u001b[0m\n\u001b[0;32m----> 1\u001b[0;31m \u001b[0mmodel\u001b[0m\u001b[0;34m.\u001b[0m\u001b[0mfit\u001b[0m\u001b[0;34m(\u001b[0m\u001b[0mtrain_generator\u001b[0m \u001b[0;34m,\u001b[0m\u001b[0mvalidation_data\u001b[0m \u001b[0;34m=\u001b[0m \u001b[0mtest_generator\u001b[0m\u001b[0;34m,\u001b[0m\u001b[0mvalidation_steps\u001b[0m \u001b[0;34m=\u001b[0m \u001b[0mn_validation_steps\u001b[0m\u001b[0;34m,\u001b[0m\u001b[0msteps_per_epoch\u001b[0m\u001b[0;34m=\u001b[0m\u001b[0mn_steps_epoch\u001b[0m\u001b[0;34m,\u001b[0m\u001b[0mepochs\u001b[0m\u001b[0;34m=\u001b[0m\u001b[0;36m50\u001b[0m\u001b[0;34m,\u001b[0m\u001b[0mcallbacks\u001b[0m\u001b[0;34m=\u001b[0m\u001b[0;34m[\u001b[0m\u001b[0mcheckpoint\u001b[0m\u001b[0;34m]\u001b[0m\u001b[0;34m)\u001b[0m\u001b[0;34m\u001b[0m\u001b[0;34m\u001b[0m\u001b[0m\n\u001b[0m",
            "\u001b[0;31mNameError\u001b[0m: name 'model' is not defined"
          ]
        }
      ]
    },
    {
      "cell_type": "code",
      "source": [],
      "metadata": {
        "id": "Cb4leg-IhT1G"
      },
      "execution_count": null,
      "outputs": []
    }
  ]
}